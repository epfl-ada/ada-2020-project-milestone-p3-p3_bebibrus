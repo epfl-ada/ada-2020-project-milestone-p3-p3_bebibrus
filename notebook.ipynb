{
 "cells": [
  {
   "cell_type": "markdown",
   "metadata": {},
   "source": [
    "<h2 style=\"color:#696969\">Housing, Health, and Happines <br> Creative extension </h2> \n",
    "<h1 style=\"text-align:center\">Effect of different matching methods on the paper's conclusions</h1>\n",
    "<p style=\"text-align:justify\"><strong>“Housing, Health, and Happiness”</strong> is an extremely interesting paper which demonstrates that simple housing improvements in slum areas are beneficial for child health and cognitive development as well as adult happiness. If this is indeed true, the paper should be a source of inspiration for governments taking action to combat poverty. However, this pleasing conclusion is drawn from an observational study and may thus be biased by confounders. For this reason, we decided to see if we obtain <strong>the same conclusion</strong> after having <strong>properly balanced the control and treatment group</strong> using adequate matching methods. To do so, we are going to use the same dataset and the same statistical methods (linear regressions) as the paper, but extra efforts will be made to find the best matching between the control and treatment groups.</p>\n",
    "    \n"
   ]
  }
 ],
 "metadata": {
  "kernelspec": {
   "display_name": "Python 3.7.4 64-bit ('base': conda)",
   "language": "python",
   "name": "python37464bitbasecondaed5803bab0364fe48416b4ff7ba9e10b"
  },
  "language_info": {
   "codemirror_mode": {
    "name": "ipython",
    "version": 3
   },
   "file_extension": ".py",
   "mimetype": "text/x-python",
   "name": "python",
   "nbconvert_exporter": "python",
   "pygments_lexer": "ipython3",
   "version": "3.7.4"
  }
 },
 "nbformat": 4,
 "nbformat_minor": 2
}
