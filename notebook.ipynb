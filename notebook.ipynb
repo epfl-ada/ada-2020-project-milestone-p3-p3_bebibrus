{
 "cells": [
  {
   "cell_type": "markdown",
   "metadata": {},
   "source": [
    "<h2 style=\"color:#696969\">Housing, Health, and Happines <br> Creative extension </h2> \n",
    "<h1 style=\"text-align:center\">Effect of different matching methods on the paper's conclusions</h1>\n",
    "<p style=\"text-align:justify\"><strong>“Housing, Health, and Happiness”</strong> is an extremely interesting paper which demonstrates that simple housing improvements in slum areas are beneficial for child health and cognitive development as well as adult happiness. If this is indeed true, the paper should be a source of inspiration for governments taking action to combat poverty. However, this pleasing conclusion is drawn from an observational study and may thus be biased by confounders. For this reason, we decided to see if we obtain <strong>the same conclusion</strong> after having <strong>properly balanced the control and treatment group</strong> using adequate matching methods. To do so, we are going to use the same dataset and the same statistical methods (linear regressions) as the paper, but extra efforts will be made to find the best matching between the control and treatment groups.</p>\n",
    "    \n"
   ]
  },
  {
   "cell_type": "markdown",
   "metadata": {},
   "source": [
    "<p> We decided to find the best balance for covariates that can be grouped into 5 <strong>household related categories</strong>. In our view, the chosen covariates are unrelated to the treatment and are therefore good candidates for balancing the groups. The 5 categories and corresponding covariates are the following:</p>\n",
    "<br>\n",
    "<strong> Demographic covariates (13):</strong>\n",
    "<ul>\n",
    "    <li>S_HHpeople: 2005 Survey - Number of household members</li>\n",
    "    <li>S_headage: 2005 Survey - Head of household's age</li>\n",
    "    <li>S_spouseage: 2005 Survey - Spouse's age</li>\n",
    "    <li>S_headeduc 2005 Survey - Head of household's years of schooling</li>\n",
    "    <li>S_spouseeduc 2005 Survey - Spouse's years of schooling</li>\n",
    "    <li>S_dem1: 2005 Survey - Proportion of Males 0-5yrs in household</li>\n",
    "    <li>S_dem2: 2005 Survey - Proportion of Males 6-17yrs in household</li>\n",
    "    <li>S_dem3: 2005 Survey - Proportion of Males 18-49yrs in household</li>\n",
    "    <li>S_dem4: 2005 Survey - Proportion of Males 50+yrs in household</li>\n",
    "    <li>S_dem5: 2005 Survey - Proportion of Females 0-5yrs in household</li>\n",
    "    <li>S_dem6: 2005 Survey - Proportion of Females 6-17yrs in household</li>\n",
    "    <li>S_dem7: 2005 Survey - Proportion of Females 18-49yrs in household</li>\n",
    "    <li>S_dem8: 2005 Survey - Proportion of Females 50+yrs in household</li>\n",
    "</ul>\n",
    "\n",
    "<strong> Housing covariates (4):</strong>\n",
    "<ul>\n",
    "    <li>S_rooms: 2005 Survey - Number of rooms</li>\n",
    "    <li>S_waterland: 2005 Survey - Water connection (=1)</li>\n",
    "    <li>S_waterhouse: 2005 Survey - Water connection inside the house (=1)</li>\n",
    "    <li>S_electricity 2005 Survey - Electricity (=1)</li>\n",
    "</ul>\n",
    "<strong> Economic covariates (5):</strong>\n",
    "<ul>\n",
    "    <li>S_incomepc: 2005 Survey - Total household income per capita</li>\n",
    "    <li>S_assetspc: 2005 Survey - Total value of household assets per capita</li>\n",
    "    <li>S_shpeoplework: 2005 Survey - Proportion of household members who work</li>\n",
    "    <li>S_microenter: 2005 Survey - Household operates a microenterprise (=1)</li>\n",
    "    <li>S_hrsworkedpc: 2005 Survey - Hours worked by household members per capita</li>\n",
    "</ul>\n",
    "<strong> Hygienic covariates (4):</strong>\n",
    "<ul>\n",
    "    <li>S_hasanimals: 2005 Survey - Household has animals on land (=1)</li>\n",
    "    <li>S_animalsinside: 2005 Survey - Animals allowed to enter the house (=1)</li>\n",
    "    <li>S_garbage: 2005 Survey - Uses garbage collection service (=1)</li>\n",
    "    <li>S_washhands: 2005 Survey - Number of times respondent washed hands the day before</li>\n",
    "</ul>\n",
    "<strong> Social assistance covariates (3):</strong>\n",
    "<ul>\n",
    "    <li>S_cashtransfers: 2005 Survey - Transfers per capita from government programs</li>\n",
    "    <li>S_milkprogram: 2005 Survey - Household beneficiary of government milk supplement program (=1)</li>\n",
    "    <li>S_foodprogram: 2005 Survey - Household beneficiary of government food program (=1)</li>\n",
    "</ul>"
   ]
  },
  {
   "cell_type": "markdown",
   "metadata": {},
   "source": [
    "<p>First of all, we want to see the balance of these covariates between the treatment and control groups used in the paper. To do so, we summarize and compare the covariate distributions with techniques learned in lecture 4 (\"Descibing data\") and lecture 3 (\"Visualizing data\"). </p>"
   ]
  },
  {
   "cell_type": "code",
   "execution_count": null,
   "metadata": {},
   "outputs": [],
   "source": [
    "# Code here\n"
   ]
  },
  {
   "cell_type": "markdown",
   "metadata": {},
   "source": [
    "<strong>Discussion: Are all covariates well balanced ? if not, which ones need to be better balanced ? </strong>"
   ]
  },
  {
   "cell_type": "markdown",
   "metadata": {},
   "source": [
    "<p> In the remainder of the notebook, we will try different matching methods to see if the covariate balance can be improved. For each of these matching methods, tables 4 and 6 will be replicated and compared with the original tables. The notebook will therefore be structured as follows for each matching method:</p>\n",
    "<strong>a) Matching method used</strong><br>\n",
    "<strong>b) Comparison of covariates' distribution</strong><br>\n",
    "<strong>c) Replication of table 4 and 6 and comparison with the original results</strong><br>\n",
    "The matching methods used are the following: <a href=\"#Propensity\">Propensity score matching</a>, <a href=\"#caliper\">Caliper matching</a>, <a href=\"#trois\">? matching</a>"
   ]
  },
  {
   "cell_type": "markdown",
   "metadata": {},
   "source": [
    "<h2 style=\"text-align:center\" id=\"Propensity\">1. Propensity score matching</h2>\n"
   ]
  },
  {
   "cell_type": "markdown",
   "metadata": {},
   "source": [
    "<strong>a)</strong>"
   ]
  },
  {
   "cell_type": "markdown",
   "metadata": {},
   "source": [
    "<strong>b)</strong>"
   ]
  },
  {
   "cell_type": "markdown",
   "metadata": {},
   "source": [
    "<strong>c)</strong>"
   ]
  },
  {
   "cell_type": "markdown",
   "metadata": {},
   "source": [
    "<h2 style=\"text-align:center\" id=\"caliper\">2. Caliper matching (epsilon = 0.05)</h2>"
   ]
  },
  {
   "cell_type": "markdown",
   "metadata": {},
   "source": [
    "<strong>a)</strong>"
   ]
  },
  {
   "cell_type": "markdown",
   "metadata": {},
   "source": [
    "<strong>b)</strong>"
   ]
  },
  {
   "cell_type": "markdown",
   "metadata": {},
   "source": [
    "<strong>c)</strong>"
   ]
  },
  {
   "cell_type": "markdown",
   "metadata": {},
   "source": [
    "<h2 style=\"text-align:center\" id=\"trois\">3. ? matching </h2>"
   ]
  },
  {
   "cell_type": "markdown",
   "metadata": {},
   "source": [
    "<strong>a)</strong>"
   ]
  },
  {
   "cell_type": "markdown",
   "metadata": {},
   "source": [
    "<strong>b)</strong>"
   ]
  },
  {
   "cell_type": "markdown",
   "metadata": {},
   "source": [
    "<strong>c)</strong>"
   ]
  }
 ],
 "metadata": {
  "kernelspec": {
   "display_name": "Python 3.7.4 64-bit ('base': conda)",
   "language": "python",
   "name": "python37464bitbasecondaed5803bab0364fe48416b4ff7ba9e10b"
  },
  "language_info": {
   "codemirror_mode": {
    "name": "ipython",
    "version": 3
   },
   "file_extension": ".py",
   "mimetype": "text/x-python",
   "name": "python",
   "nbconvert_exporter": "python",
   "pygments_lexer": "ipython3",
   "version": "3.7.4"
  }
 },
 "nbformat": 4,
 "nbformat_minor": 2
}
